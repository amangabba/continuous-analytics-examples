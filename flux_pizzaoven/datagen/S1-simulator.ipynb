{
 "cells": [
  {
   "cell_type": "markdown",
   "metadata": {},
   "source": [
    "# Sensor S1 Simulator"
   ]
  },
  {
   "cell_type": "markdown",
   "metadata": {},
   "source": [
    "## Getting Started\n",
    "\n",
    "Let's start importing libraries and creating useful variables "
   ]
  },
  {
   "cell_type": "code",
   "execution_count": null,
   "metadata": {},
   "outputs": [],
   "source": [
    "!pip install influxdb-client"
   ]
  },
  {
   "cell_type": "code",
   "execution_count": null,
   "metadata": {},
   "outputs": [],
   "source": [
    "from datetime import datetime\n",
    "\n",
    "from influxdb_client import InfluxDBClient, Point, WritePrecision\n",
    "from influxdb_client.client.write_api import SYNCHRONOUS\n",
    "\n",
    "url = \"https://us-west-2-1.aws.cloud2.influxdata.com\"\n",
    "token = \"\"\n",
    "org = \"emanuele.dellavalle@quantiaconsulting.com\"\n",
    "bucket = \"training\"\n",
    "\n",
    "client = InfluxDBClient(url=url, token=token)\n",
    "write_api = client.write_api(write_options=SYNCHRONOUS)"
   ]
  },
  {
   "cell_type": "markdown",
   "metadata": {},
   "source": [
    "In order to write on cloud instance, use the following credentials:\n",
    "\n",
    "```\n",
    "url = \"https://us-west-2-1.aws.cloud2.influxdata.com\"\n",
    "token = <create a token on your cloud>\n",
    "org = \"your username\"\n",
    "```"
   ]
  },
  {
   "cell_type": "markdown",
   "metadata": {},
   "source": [
    "## Produce timed messages\n",
    "\n",
    "The next cell will produce timed messages with temperature and humidity values distributed distributed according to a gaussian distribution"
   ]
  },
  {
   "cell_type": "code",
   "execution_count": null,
   "metadata": {},
   "outputs": [],
   "source": [
    "from random import gauss\n",
    "import time\n",
    "\n",
    "while True:\n",
    "    point = Point(\"iot-oven\").tag(\"sensor\", \"S1\").field(\"temperature\", gauss(290, 5.0)).field(\"humidity\", gauss(30, 5.0))\n",
    "    print(point.to_line_protocol())\n",
    "    write_api.write(bucket, org, point)\n",
    "    time.sleep(5)"
   ]
  },
  {
   "cell_type": "markdown",
   "metadata": {},
   "source": [
    "In order to explixitly add time to the data point use the `.point(...)` function.\n",
    "\n",
    "```    \n",
    "point = (Point(\"iot-oven\")\n",
    ".tag(\"sensor\", \"S1\")\n",
    ".field(\"temperature\", gauss(290, 5.0))\n",
    ".field(\"humidity\", gauss(30, 5.0))\n",
    ".time(int(time.time_ns()))\n",
    "```\n",
    "\n",
    "You can use a more readable date format\n",
    "\n",
    "```\n",
    "...\n",
    ".time('1996-02-25T21:20:00.001001231Z')\n",
    "```\n"
   ]
  },
  {
   "cell_type": "markdown",
   "metadata": {},
   "source": [
    "## Change distribution parameters"
   ]
  },
  {
   "cell_type": "code",
   "execution_count": null,
   "metadata": {},
   "outputs": [],
   "source": [
    "# temperature controller partial failure, the stddev of S1 goes from 5 to 20\n",
    "\n",
    "while True:\n",
    "    point = Point(\"iot-oven\").tag(\"sensor\", \"S1\").field(\"temperature\", gauss(290, 20.0)).field(\"humidity\", gauss(30, 5.0))\n",
    "    print(point.to_line_protocol())\n",
    "    write_api.write(bucket, org, point)\n",
    "    time.sleep(5)"
   ]
  }
 ],
 "metadata": {
  "kernelspec": {
   "display_name": "Python 3",
   "language": "python",
   "name": "python3"
  },
  "language_info": {
   "codemirror_mode": {
    "name": "ipython",
    "version": 3
   },
   "file_extension": ".py",
   "mimetype": "text/x-python",
   "name": "python",
   "nbconvert_exporter": "python",
   "pygments_lexer": "ipython3",
   "version": "3.8.3"
  },
  "name": "Lab 3 - Solution - avro producer",
  "notebookId": 1507370365633703
 },
 "nbformat": 4,
 "nbformat_minor": 4
}
